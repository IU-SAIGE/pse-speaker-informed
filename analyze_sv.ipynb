{
 "cells": [
  {
   "cell_type": "markdown",
   "metadata": {},
   "source": [
    "## Imports"
   ]
  },
  {
   "cell_type": "code",
   "execution_count": 63,
   "metadata": {},
   "outputs": [],
   "source": [
    "import warnings\n",
    "warnings.simplefilter('ignore')\n",
    "\n",
    "import matplotlib.pyplot as plt\n",
    "import json\n",
    "import pathlib\n",
    "import re\n",
    "import pandas as pd\n",
    "import numpy as np\n",
    "import torch\n",
    "from matplotlib import cm\n",
    "from scipy.io import wavfile\n",
    "from sklearn.manifold import TSNE\n",
    "from sklearn.cluster import KMeans\n",
    "\n",
    "import _datasets as D\n",
    "import _models as M\n",
    "\n",
    "EPS = 1e-8\n",
    "\n",
    "# select device\n",
    "device = 'cpu'\n",
    "if torch.cuda.is_available():\n",
    "    device = 'cuda:0'\n",
    "\n",
    "mean_vector_paths = list(pathlib.Path('weights_sv').rglob('mean_vectors.npy'))\n",
    "checkpoint_paths = list(pathlib.Path('weights_sv').rglob('checkpoint'))"
   ]
  },
  {
   "cell_type": "markdown",
   "metadata": {},
   "source": [
    "## Generate speaker-mean vectors per checkpoint"
   ]
  },
  {
   "cell_type": "code",
   "execution_count": 10,
   "metadata": {},
   "outputs": [],
   "source": [
    "if len(mean_vector_paths) < len(checkpoint_paths):\n",
    "    with torch.no_grad():\n",
    "        for checkpoint_path in checkpoint_paths:\n",
    "\n",
    "            hidden_size = int(re.search(r'hidden_size=(\\d+)', str(checkpoint_path))[1])\n",
    "\n",
    "            # instantiate network\n",
    "            network = M.NetSV(hidden_size=hidden_size, num_layers=2).to(device)\n",
    "            sd = torch.load(checkpoint_path, map_location=torch.device(device))\n",
    "            network.load_state_dict(sd)\n",
    "\n",
    "            # loop through each speaker\n",
    "            mean_vectors = {}\n",
    "            for speaker_id in D.speaker_ids_tr:\n",
    "                df = D.librispeech.query(f'speaker_id == \"{speaker_id}\"')\n",
    "                vectors = []\n",
    "                for filepath in df.filepath:\n",
    "                    (_, s) = wavfile.read(filepath)\n",
    "                    s = s / np.abs(s).max()\n",
    "                    s = torch.Tensor(s).unsqueeze(0).to(device)\n",
    "                    features = network.embedding(s).squeeze()\n",
    "                    vectors.append(features)\n",
    "                vectors = torch.stack(vectors)\n",
    "                mean_vectors[speaker_id] = torch.mean(vectors, dim=0).cpu().numpy()\n",
    "\n",
    "            np.save(str(checkpoint_path.with_name('mean_vectors.npy')), mean_vectors)\n",
    "\n",
    "            print('Finished', str(checkpoint_path.with_name('mean_vectors.npy')))"
   ]
  },
  {
   "cell_type": "markdown",
   "metadata": {},
   "source": [
    "## Mean vectors gender clustering, TSNE for visualization "
   ]
  },
  {
   "cell_type": "code",
   "execution_count": 72,
   "metadata": {},
   "outputs": [
    {
     "name": "stdout",
     "output_type": "stream",
     "text": [
      "hidden_size=32,utterance_duration=5_2021-04-16_01-34-12/checkpoint_4540/mean_vectors.npy\n"
     ]
    },
    {
     "data": {
      "image/png": "[encoded data removed]",
      "text/plain": [
       "<Figure size 120x120 with 1 Axes>"
      ]
     },
     "metadata": {
      "needs_background": "light"
     },
     "output_type": "display_data"
    },
    {
     "name": "stdout",
     "output_type": "stream",
     "text": [
      "hidden_size=64,utterance_duration=5_2021-04-16_01-34-12/checkpoint_2710/mean_vectors.npy\n"
     ]
    },
    {
     "data": {
      "image/png": "[encoded data removed]",
      "text/plain": [
       "<Figure size 120x120 with 1 Axes>"
      ]
     },
     "metadata": {
      "needs_background": "light"
     },
     "output_type": "display_data"
    },
    {
     "name": "stdout",
     "output_type": "stream",
     "text": [
      "hidden_size=96,utterance_duration=5_2021-04-16_01-34-12/checkpoint_3060/mean_vectors.npy\n"
     ]
    },
    {
     "data": {
      "image/png": "[encoded data removed]",
      "text/plain": [
       "<Figure size 120x120 with 1 Axes>"
      ]
     },
     "metadata": {
      "needs_background": "light"
     },
     "output_type": "display_data"
    }
   ],
   "source": [
    "figsize = (4, 4)\n",
    "dpi = 30\n",
    "num_plots = 3\n",
    "\n",
    "for mean_vector_path in sorted(mean_vector_paths)[:num_plots]:\n",
    "    print('hidden'+str(mean_vector_path).split('hidden')[1])\n",
    "    df = np.load(mean_vector_path, allow_pickle=True).item()\n",
    "    data = np.vstack(list(df.values()))\n",
    "    labels = np.vstack(list(df.keys())).squeeze()\n",
    "\n",
    "    tsne = TSNE(n_components=2, verbose=0, perplexity=40, n_iter=300, random_state=0)\n",
    "    data_2d = tsne.fit_transform(data)\n",
    "\n",
    "    fig = plt.figure(figsize=figsize, dpi=dpi)\n",
    "        \n",
    "    # plot by gender\n",
    "    colors = {'M': 'blue', 'F': 'pink'}\n",
    "    for i in range(0, len(labels), 1):\n",
    "        speaker_id = labels[i]\n",
    "        gender = D.speakers_tr[D.speakers_tr.speaker_id==speaker_id].gender.item()\n",
    "        plt.scatter(data_2d[i, 0], data_2d[i, 1], c=colors[gender])\n",
    "\n",
    "    # annotate with the speaker IDs\n",
    "    if False:\n",
    "        for i in range(0, len(labels), 1):\n",
    "            plt.annotate(xy=(data_2d[i, 0], data_2d[i, 1]), text=labels[i])\n",
    "\n",
    "    plt.show()"
   ]
  },
  {
   "cell_type": "markdown",
   "metadata": {},
   "source": [
    "## Mean vectors K-Means clustering, TSNE for visualization"
   ]
  },
  {
   "cell_type": "code",
   "execution_count": 71,
   "metadata": {
    "jupyter": {
     "source_hidden": true
    }
   },
   "outputs": [
    {
     "name": "stdout",
     "output_type": "stream",
     "text": [
      "hidden_size=32,utterance_duration=5_2021-04-16_01-34-12/checkpoint_4540/mean_vectors.npy\n"
     ]
    },
    {
     "data": {
      "image/png": "[encoded data removed]",
      "text/plain": [
       "<Figure size 120x120 with 1 Axes>"
      ]
     },
     "metadata": {
      "needs_background": "light"
     },
     "output_type": "display_data"
    },
    {
     "name": "stdout",
     "output_type": "stream",
     "text": [
      "hidden_size=64,utterance_duration=5_2021-04-16_01-34-12/checkpoint_2710/mean_vectors.npy\n"
     ]
    },
    {
     "data": {
      "image/png": "[encoded data removed]",
      "text/plain": [
       "<Figure size 120x120 with 1 Axes>"
      ]
     },
     "metadata": {
      "needs_background": "light"
     },
     "output_type": "display_data"
    },
    {
     "name": "stdout",
     "output_type": "stream",
     "text": [
      "hidden_size=96,utterance_duration=5_2021-04-16_01-34-12/checkpoint_3060/mean_vectors.npy\n"
     ]
    },
    {
     "data": {
      "image/png": "[encoded data removed]",
      "text/plain": [
       "<Figure size 120x120 with 1 Axes>"
      ]
     },
     "metadata": {
      "needs_background": "light"
     },
     "output_type": "display_data"
    },
    {
     "name": "stdout",
     "output_type": "stream",
     "text": [
      "hidden_size=32,utterance_duration=3_2021-04-16_01-34-12/checkpoint_4030/mean_vectors.npy\n"
     ]
    },
    {
     "data": {
      "image/png": "[encoded data removed]",
      "text/plain": [
       "<Figure size 120x120 with 1 Axes>"
      ]
     },
     "metadata": {
      "needs_background": "light"
     },
     "output_type": "display_data"
    },
    {
     "name": "stdout",
     "output_type": "stream",
     "text": [
      "hidden_size=64,utterance_duration=3_2021-04-16_01-34-12/checkpoint_3230/mean_vectors.npy\n"
     ]
    },
    {
     "data": {
      "image/png": "[encoded data removed]",
      "text/plain": [
       "<Figure size 120x120 with 1 Axes>"
      ]
     },
     "metadata": {
      "needs_background": "light"
     },
     "output_type": "display_data"
    },
    {
     "name": "stdout",
     "output_type": "stream",
     "text": [
      "hidden_size=96,utterance_duration=3_2021-04-16_01-34-12/checkpoint_4330/mean_vectors.npy\n"
     ]
    },
    {
     "data": {
      "image/png": "[encoded data removed]",
      "text/plain": [
       "<Figure size 120x120 with 1 Axes>"
      ]
     },
     "metadata": {
      "needs_background": "light"
     },
     "output_type": "display_data"
    },
    {
     "name": "stdout",
     "output_type": "stream",
     "text": [
      "hidden_size=32,utterance_duration=1_2021-04-16_01-34-12/checkpoint_2990/mean_vectors.npy\n"
     ]
    },
    {
     "data": {
      "image/png": "[encoded data removed]",
      "text/plain": [
       "<Figure size 120x120 with 1 Axes>"
      ]
     },
     "metadata": {
      "needs_background": "light"
     },
     "output_type": "display_data"
    },
    {
     "name": "stdout",
     "output_type": "stream",
     "text": [
      "hidden_size=64,utterance_duration=1_2021-04-16_01-34-12/checkpoint_2590/mean_vectors.npy\n"
     ]
    },
    {
     "data": {
      "image/png": "[encoded data removed]",
      "text/plain": [
       "<Figure size 120x120 with 1 Axes>"
      ]
     },
     "metadata": {
      "needs_background": "light"
     },
     "output_type": "display_data"
    },
    {
     "name": "stdout",
     "output_type": "stream",
     "text": [
      "hidden_size=96,utterance_duration=1_2021-04-16_01-34-12/checkpoint_3600/mean_vectors.npy\n"
     ]
    },
    {
     "data": {
      "image/png": "[encoded data removed]",
      "text/plain": [
       "<Figure size 120x120 with 1 Axes>"
      ]
     },
     "metadata": {
      "needs_background": "light"
     },
     "output_type": "display_data"
    }
   ],
   "source": [
    "figsize = (4, 4)\n",
    "dpi = 30\n",
    "num_plots = 10\n",
    "\n",
    "for mean_vector_path in sorted(mean_vector_paths)[:num_plots]:\n",
    "    print('hidden'+str(mean_vector_path).split('hidden')[1])\n",
    "    df = np.load(mean_vector_path, allow_pickle=True).item()\n",
    "    data = np.vstack(list(df.values()))\n",
    "    labels = np.vstack(list(df.keys())).squeeze()\n",
    "\n",
    "    kmeans = KMeans(n_clusters=10, random_state=0).fit(data)\n",
    "    classes = kmeans.labels_\n",
    "    mapping = {k:int(v) for (k,v) in zip(labels, classes)}\n",
    "    \n",
    "    with open(str(mean_vector_path.with_name('map_speaker_to_specialist.json')), 'w') as fp:\n",
    "        json.dump(mapping, fp, sort_keys=True, indent=2)\n",
    "    \n",
    "    def reverse_non_unique_mapping(d):\n",
    "        dinv = {}\n",
    "        for k, v in d.items():\n",
    "            v = int(v)\n",
    "            if v in dinv:\n",
    "                dinv[v].append(k)\n",
    "            else:\n",
    "                dinv[v] = [k]\n",
    "        return dinv\n",
    "    \n",
    "    mapping = reverse_non_unique_mapping(mapping)\n",
    "\n",
    "    tsne = TSNE(n_components=2, verbose=0, perplexity=40, n_iter=300, random_state=0)\n",
    "    data_2d = tsne.fit_transform(data)\n",
    "    \n",
    "    with open(str(mean_vector_path.with_name('map_specialist_to_speakers.json')), 'w') as fp:\n",
    "        json.dump(mapping, fp, sort_keys=True, indent=2)\n",
    "\n",
    "    fig = plt.figure(figsize=figsize, dpi=dpi)\n",
    "        \n",
    "    # plot by k-means\n",
    "    if True:\n",
    "        for i in range(0, len(labels), 1):\n",
    "            colors = cm.get_cmap(\"Set3\").colors\n",
    "            plt.scatter(data_2d[i, 0], data_2d[i, 1], color=colors[classes[i]])\n",
    "    \n",
    "    # plot by gender\n",
    "    colors = {'M': 'blue', 'F': 'pink'}\n",
    "    if False:\n",
    "        for i in range(0, len(labels), 1):\n",
    "            speaker_id = labels[i]\n",
    "            gender = D.speakers_tr[D.speakers_tr.speaker_id==speaker_id].gender.item()\n",
    "            plt.scatter(data_2d[i, 0], data_2d[i, 1], c=colors[gender])\n",
    "\n",
    "    # annotate with the speaker IDs\n",
    "    if False:\n",
    "        for i in range(0, len(labels), 1):\n",
    "            plt.annotate(xy=(data_2d[i, 0], data_2d[i, 1]), text=labels[i])\n",
    "\n",
    "    plt.show()"
   ]
  }
 ],
 "metadata": {
  "kernelspec": {
   "display_name": "Python 3",
   "language": "python",
   "name": "python3"
  },
  "language_info": {
   "codemirror_mode": {
    "name": "ipython",
    "version": 3
   },
   "file_extension": ".py",
   "mimetype": "text/x-python",
   "name": "python",
   "nbconvert_exporter": "python",
   "pygments_lexer": "ipython3",
   "version": "3.7.4"
  }
 },
 "nbformat": 4,
 "nbformat_minor": 4
}
